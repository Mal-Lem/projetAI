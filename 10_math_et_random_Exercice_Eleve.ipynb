{
  "cells": [
    {
      "cell_type": "markdown",
      "metadata": {
        "id": "view-in-github",
        "colab_type": "text"
      },
      "source": [
        "<a href=\"https://colab.research.google.com/github/Mal-Lem/projetAI/blob/main/10_math_et_random_Exercice_Eleve.ipynb\" target=\"_parent\"><img src=\"https://colab.research.google.com/assets/colab-badge.svg\" alt=\"Open In Colab\"/></a>"
      ]
    },
    {
      "cell_type": "markdown",
      "id": "bb3bcae6",
      "metadata": {
        "id": "bb3bcae6"
      },
      "source": [
        "<h1> Exercice 1 </h1>\n",
        "\n",
        "Vous êtes chargé de développer une petite simulation d'un jeu de loto. Dans ce jeu, un joueur choisit 5 numéros uniques dans une plage de 1 à 50. Après la sélection, le jeu tire au sort 5 numéros gagnants dans la même plage. Le but est de comparer les numéros choisis par le joueur avec les numéros gagnants pour déterminer le nombre de correspondances.\n",
        "\n",
        "\n",
        "<b> Instructions </b>\n",
        "\n",
        "1) Initialisation des Numéros du Joueur :\n",
        "- Le joueur choisit 5 numéros uniques (dans une liste). Pour simplifier, vous pouvez générer ces numéros automatiquement ou les définir manuellement dans le code.\n",
        "\n",
        "2) Tirage des Numéros Gagnants :\n",
        "- Utilisez random.sample pour tirer 5 numéros uniques entre 1 et 50 représentant les numéros gagnants.\n",
        "\n",
        "3) Comparaison et Résultat :\n",
        "- Comparez les numéros choisis par le joueur avec les numéros gagnants pour déterminer combien de numéros correspondent.\n",
        "- Affichez les numéros du joueur, les numéros gagnants, et le nombre de correspondances."
      ]
    },
    {
      "cell_type": "code",
      "execution_count": 12,
      "id": "55e748dc",
      "metadata": {
        "colab": {
          "base_uri": "https://localhost:8080/"
        },
        "id": "55e748dc",
        "outputId": "dc85f0da-0784-4c16-f6da-65007fde42d9"
      },
      "outputs": [
        {
          "output_type": "stream",
          "name": "stdout",
          "text": [
            "[1, 2, 3, 4, 5, 6, 7, 8, 9, 10, 11, 12, 13, 14, 15, 16, 17, 18, 19, 20, 21, 22, 23, 24, 25, 26, 27, 28, 29, 30, 31, 32, 33, 34, 35, 36, 37, 38, 39, 40, 41, 42, 43, 44, 45, 46, 47, 48, 49, 50]\n"
          ]
        }
      ],
      "source": [
        "numero = []\n",
        "for i in range(1,51):\n",
        "    numero = numero + [i]\n",
        "print(numero)"
      ]
    },
    {
      "cell_type": "code",
      "source": [
        "import random\n",
        "numero_gagnant = []\n",
        "nbr_corresp = 0\n",
        "num_joureur = random.sample(numero,5)\n",
        "#print(num_joureur)\n",
        "numero_gagnant = random.sample(numero,5)\n",
        "#print(numero_gagnant)\n",
        "for i in num_joureur:\n",
        "    if i in numero_gagnant:\n",
        "        print(f'le numéro {i} est gagnant')\n",
        "        nbr_corresp = nbr_corresp + 1\n",
        "    else :\n",
        "        print(f'le numéro {i} n\\'est pas gagant')\n",
        "\n",
        "print(f'le nombre de numéro gagnant est {nbr_corresp}')"
      ],
      "metadata": {
        "colab": {
          "base_uri": "https://localhost:8080/"
        },
        "id": "WIomUqV0mIJu",
        "outputId": "52f188ea-0d27-4159-b7ff-71a80fb32d98"
      },
      "id": "WIomUqV0mIJu",
      "execution_count": 24,
      "outputs": [
        {
          "output_type": "stream",
          "name": "stdout",
          "text": [
            "le numéro 20 n'est pas gagant\n",
            "le numéro 29 n'est pas gagant\n",
            "le numéro 2 est gagnant\n",
            "le numéro 40 n'est pas gagant\n",
            "le numéro 50 est gagnant\n",
            "le nombre de numéro gagnant est 2\n"
          ]
        }
      ]
    },
    {
      "cell_type": "markdown",
      "id": "ee11f1e4",
      "metadata": {
        "id": "ee11f1e4"
      },
      "source": [
        "<h1> Exercice 2 </h1>\n",
        "\n",
        "Vous êtes en charge de planifier un voyage de classe pour un groupe d'élèves. Le coût total du voyage est fixe, mais le nombre d'élèves pouvant participer varie. L'objectif est de calculer le coût par élève et de déterminer le nombre minimal d'élèves nécessaire pour ne pas dépasser un certain budget par personne. De plus, vous devez sélectionner aléatoirement un groupe d'élèves qui seront les responsables du voyage.\n",
        "\n",
        "\n",
        "1) Calcul du Coût par Élève :\n",
        "\n",
        "Le coût total du voyage est de 2000 euros. Le budget maximal par élève est de 150 euros. Utilisez math.ceil pour calculer le nombre minimal d'élèves nécessaire pour respecter ce budget.\n",
        "\n",
        "2) Sélection des Responsables du Voyage :\n",
        "\n",
        "Parmi les élèves, sélectionnez un élève au hasard pour être le chef du groupe. Ensuite, choisissez 3 élèves supplémentaires pour former le comité d'organisation, sans inclure le chef déjà sélectionné."
      ]
    },
    {
      "cell_type": "code",
      "execution_count": 35,
      "id": "30beef2d",
      "metadata": {
        "id": "30beef2d"
      },
      "outputs": [],
      "source": [
        "cout_total = 2000\n",
        "budget_max_par_eleve = 150\n",
        "eleves = ['Alice', 'Bob', 'Charlie', 'Diana', 'Ethan', 'Fiona', 'George', 'Hannah', 'Ian', 'Julia', 'Kevin']"
      ]
    },
    {
      "cell_type": "code",
      "source": [
        "import math\n",
        "\n",
        "nbr_elev_min = math.ceil(cout_total/budget_max_par_eleve)\n",
        "print(f'le nombre minimal d\\'élèves est {nbr_elev_min}')"
      ],
      "metadata": {
        "colab": {
          "base_uri": "https://localhost:8080/"
        },
        "id": "9f5izcUnvLkE",
        "outputId": "a1ffb500-5c63-4563-ee97-9e0ac1598f7a"
      },
      "id": "9f5izcUnvLkE",
      "execution_count": 36,
      "outputs": [
        {
          "output_type": "stream",
          "name": "stdout",
          "text": [
            "le nombre minimal d'élèves est 14\n"
          ]
        }
      ]
    },
    {
      "cell_type": "code",
      "source": [
        "responsable = random.choice(eleves)\n",
        "print(f'le responsable du voyage est {responsable}')\n",
        "eleves.remove(responsable)\n",
        "print(eleves)"
      ],
      "metadata": {
        "colab": {
          "base_uri": "https://localhost:8080/"
        },
        "id": "W1V7CQavvelX",
        "outputId": "255c6cbd-ba6e-47f4-b108-2e6ec507c3c4"
      },
      "id": "W1V7CQavvelX",
      "execution_count": 37,
      "outputs": [
        {
          "output_type": "stream",
          "name": "stdout",
          "text": [
            "le responsable du voyage est Ethan\n",
            "['Alice', 'Bob', 'Charlie', 'Diana', 'Fiona', 'George', 'Hannah', 'Ian', 'Julia', 'Kevin']\n"
          ]
        }
      ]
    },
    {
      "cell_type": "code",
      "source": [
        "eleves_comite = random.sample(eleves,3)\n",
        "print(f'les membres commite sont {eleves_comite}')"
      ],
      "metadata": {
        "colab": {
          "base_uri": "https://localhost:8080/"
        },
        "id": "5ht1ZKvZvnxW",
        "outputId": "7174e3e8-8856-4b7a-c3a9-932d9fc3e780"
      },
      "id": "5ht1ZKvZvnxW",
      "execution_count": 38,
      "outputs": [
        {
          "output_type": "stream",
          "name": "stdout",
          "text": [
            "les membres commite sont ['Julia', 'Charlie', 'Kevin']\n"
          ]
        }
      ]
    }
  ],
  "metadata": {
    "kernelspec": {
      "display_name": "Python 3 (ipykernel)",
      "language": "python",
      "name": "python3"
    },
    "language_info": {
      "codemirror_mode": {
        "name": "ipython",
        "version": 3
      },
      "file_extension": ".py",
      "mimetype": "text/x-python",
      "name": "python",
      "nbconvert_exporter": "python",
      "pygments_lexer": "ipython3",
      "version": "3.11.5"
    },
    "colab": {
      "provenance": [],
      "include_colab_link": true
    }
  },
  "nbformat": 4,
  "nbformat_minor": 5
}